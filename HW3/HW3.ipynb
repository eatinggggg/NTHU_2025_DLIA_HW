{
  "cells": [
    {
      "cell_type": "markdown",
      "metadata": {
        "id": "zYLl96GLZzgj"
      },
      "source": [
        "# Model 1"
      ]
    },
    {
      "cell_type": "code",
      "execution_count": null,
      "metadata": {
        "id": "pPJnBEekTe-E"
      },
      "outputs": [],
      "source": [
        "# =====================\n",
        "# AutoEncoder-based Unsupervised Anomaly Detection\n",
        "# =====================\n",
        "import torch\n",
        "import torch.nn as nn\n",
        "import torch.optim as optim\n",
        "from torchvision import transforms\n",
        "from torch.utils.data import Dataset, DataLoader\n",
        "from PIL import Image\n",
        "import numpy as np\n",
        "import cv2\n",
        "import glob\n",
        "import os\n",
        "from tqdm.auto import tqdm\n",
        "import matplotlib.pyplot as plt\n",
        "from sklearn.metrics import confusion_matrix, roc_auc_score, classification_report\n",
        "import seaborn as sns"
      ]
    },
    {
      "cell_type": "code",
      "execution_count": null,
      "metadata": {
        "colab": {
          "base_uri": "https://localhost:8080/",
          "height": 66,
          "referenced_widgets": [
            "e886f36464814ad9bc1fdf094a2b2af6",
            "051c7608b7b94cd3954f50cfa9f40eaa",
            "5b1bdeb97ef24a1989f56bd36567bef7",
            "c71689ea7d9e4e1781cfc779408e3a77",
            "f7fc114ee28e45b285737078fcd4474e",
            "9c8b1b3b50b148f385ece509317ebf14",
            "613ba5e5b79a41f8b33c10d7cb0dd66b",
            "67acbf8d8bad4ccc90818bd32725c7ab",
            "5dee511e8ba849078f4eeb32c8bf95fb",
            "bfe4fc2072904c1588a68f0e0f1a3298",
            "09ae1c52e1cc41978e8a39ee59be8630"
          ]
        },
        "id": "_o44I82ca8nM",
        "outputId": "79fd3297-0457-42a9-8a55-8adef299aa0f"
      },
      "outputs": [
        {
          "name": "stdout",
          "output_type": "stream",
          "text": [
            "Mounted at /content/drive\n"
          ]
        },
        {
          "data": {
            "application/vnd.jupyter.widget-view+json": {
              "model_id": "e886f36464814ad9bc1fdf094a2b2af6",
              "version_major": 2,
              "version_minor": 0
            },
            "text/plain": [
              "  0%|          | 0/209 [00:00<?, ?it/s]"
            ]
          },
          "metadata": {},
          "output_type": "display_data"
        }
      ],
      "source": [
        "# 1. Load good training images from train/good\n",
        "from google.colab import drive\n",
        "drive.mount('/content/drive')\n",
        "train_paths = sorted(glob.glob('/content/drive/MyDrive/Colab_Notebooks/DL_HW3/bottle/train/good/*.png'))\n",
        "x_train = []\n",
        "for path in tqdm(train_paths):\n",
        "    img = cv2.imread(path)\n",
        "    img = cv2.cvtColor(img, cv2.COLOR_BGR2RGB)\n",
        "    x_train.append(img)\n"
      ]
    },
    {
      "cell_type": "code",
      "execution_count": null,
      "metadata": {
        "colab": {
          "base_uri": "https://localhost:8080/"
        },
        "id": "nxrh8Qbxcay8",
        "outputId": "5122d295-a623-4493-ae4e-3cf3eb38216a"
      },
      "outputs": [
        {
          "name": "stdout",
          "output_type": "stream",
          "text": [
            "209\n"
          ]
        }
      ],
      "source": [
        "print(len(train_paths))"
      ]
    },
    {
      "cell_type": "code",
      "execution_count": null,
      "metadata": {
        "colab": {
          "base_uri": "https://localhost:8080/",
          "height": 81,
          "referenced_widgets": [
            "bc3ed0b2bbce498b8af1725e71d8fd8c",
            "55a409b7ff2346dba51ff509be2770fa",
            "ae0793485a78416d8bfefb3e1f488574",
            "24d39fba86c64a7d83c283732f49a0f3",
            "7a9ce3d220074c649732bc6e36365b1e",
            "aa6b2cafe67d4445905d1ebe2b994884",
            "b15c83256f234ec496bc350d9ffb39bd",
            "8fb1893a8f3f44848b8eb3f8184efa13",
            "91cf9452f02d4b03aa6240d91568ed7d",
            "5988d35a196d47ce9719274fe9fc00a2",
            "1a4e3d93a3284746a375777aadef1107",
            "d7e1216922d84a59a50ffdef6155a9cf",
            "c2e339aaf1b94f05a628f959a15ced94",
            "ebaecd61b89246bcb8cd2826dea5c78a",
            "51b32c7714d74891b85985a377deec41",
            "d1fd6ff6144a4eafac1530ca74b1e4ed",
            "5d7e88d1935148b29c8a717da44b47a7",
            "470b171a45f743198454363f1475b2c1",
            "9635fc1d26d744e8a312bbf67c7c4205",
            "d45cd86af7e148b1bbb4d502b55c4970",
            "6ce3e1ba6b884e6e9449dd87567548ae",
            "77c24118295a4bc5b9b729c8b3e76720"
          ]
        },
        "id": "CyKQMy8da8rL",
        "outputId": "faf84b26-83c9-4e26-ff3f-a3ea54225dda"
      },
      "outputs": [
        {
          "data": {
            "application/vnd.jupyter.widget-view+json": {
              "model_id": "bc3ed0b2bbce498b8af1725e71d8fd8c",
              "version_major": 2,
              "version_minor": 0
            },
            "text/plain": [
              "  0%|          | 0/20 [00:00<?, ?it/s]"
            ]
          },
          "metadata": {},
          "output_type": "display_data"
        },
        {
          "data": {
            "application/vnd.jupyter.widget-view+json": {
              "model_id": "d7e1216922d84a59a50ffdef6155a9cf",
              "version_major": 2,
              "version_minor": 0
            },
            "text/plain": [
              "  0%|          | 0/63 [00:00<?, ?it/s]"
            ]
          },
          "metadata": {},
          "output_type": "display_data"
        }
      ],
      "source": [
        "# 2. Load test images (good + defect)\n",
        "test_good_paths = sorted(glob.glob('/content/drive/MyDrive/Colab_Notebooks/DL_HW3/bottle/test/good/*.png'))\n",
        "test_defect_paths = sorted([p for p in glob.glob('/content/drive/MyDrive/Colab_Notebooks/DL_HW3/bottle/test/*/*.png') if 'good' not in p])\n",
        "\n",
        "x_test, y_test = [], []\n",
        "for path in tqdm(test_good_paths):\n",
        "    img = cv2.imread(path)\n",
        "    img = cv2.cvtColor(img, cv2.COLOR_BGR2RGB)\n",
        "    x_test.append(img)\n",
        "    y_test.append(0)\n",
        "for path in tqdm(test_defect_paths):\n",
        "    img = cv2.imread(path)\n",
        "    img = cv2.cvtColor(img, cv2.COLOR_BGR2RGB)\n",
        "    x_test.append(img)\n",
        "    y_test.append(1)\n",
        "\n",
        "# Transform: Resize + Normalize + ToTensor\n",
        "transform = transforms.Compose([\n",
        "    transforms.Resize((128, 128)),\n",
        "    transforms.ToTensor()\n",
        "])\n",
        "\n",
        "class ImageDataset(Dataset):\n",
        "    def __init__(self, imgs, transform):\n",
        "        self.imgs = imgs\n",
        "        self.transform = transform\n",
        "    def __len__(self):\n",
        "        return len(self.imgs)\n",
        "    def __getitem__(self, idx):\n",
        "        img = Image.fromarray(self.imgs[idx].astype(np.uint8))\n",
        "        img = self.transform(img)\n",
        "        return img\n",
        "\n",
        "train_dataset = ImageDataset(x_train, transform)\n",
        "test_dataset = ImageDataset(x_test, transform)\n",
        "\n",
        "train_loader = DataLoader(train_dataset, batch_size=32, shuffle=True)\n",
        "test_loader = DataLoader(test_dataset, batch_size=1, shuffle=False)\n"
      ]
    },
    {
      "cell_type": "code",
      "execution_count": null,
      "metadata": {
        "id": "K1e3PYktbHTV"
      },
      "outputs": [],
      "source": [
        "# 3. Define Improved AutoEncoder (UNet-style)\n",
        "class AutoEncoder(nn.Module):\n",
        "    def __init__(self):\n",
        "        super().__init__()\n",
        "        self.enc1 = nn.Sequential(nn.Conv2d(3, 32, 3, stride=2, padding=1), nn.ReLU())     # 64x64\n",
        "        self.enc2 = nn.Sequential(nn.Conv2d(32, 64, 3, stride=2, padding=1), nn.ReLU())    # 32x32\n",
        "        self.enc3 = nn.Sequential(nn.Conv2d(64, 128, 3, stride=2, padding=1), nn.ReLU())   # 16x16\n",
        "\n",
        "        self.dec1 = nn.Sequential(nn.ConvTranspose2d(128, 64, 4, stride=2, padding=1), nn.ReLU())  # 32x32\n",
        "        self.dec2 = nn.Sequential(nn.ConvTranspose2d(128, 32, 4, stride=2, padding=1), nn.ReLU())  # 64x64\n",
        "        self.dec3 = nn.Sequential(nn.ConvTranspose2d(64, 3, 4, stride=2, padding=1), nn.Sigmoid()) # 128x128\n",
        "\n",
        "    def forward(self, x):\n",
        "        e1 = self.enc1(x)\n",
        "        e2 = self.enc2(e1)\n",
        "        e3 = self.enc3(e2)\n",
        "\n",
        "        d1 = self.dec1(e3)\n",
        "        d1_cat = torch.cat([d1, e2], dim=1)  # skip connection\n",
        "        d2 = self.dec2(d1_cat)\n",
        "        d2_cat = torch.cat([d2, e1], dim=1)  # skip connection\n",
        "        out = self.dec3(d2_cat)\n",
        "        return out"
      ]
    },
    {
      "cell_type": "code",
      "execution_count": null,
      "metadata": {
        "colab": {
          "base_uri": "https://localhost:8080/"
        },
        "id": "UuPj_hr-huha",
        "outputId": "32fb0650-659d-4260-82a8-1b260e262b5c"
      },
      "outputs": [
        {
          "name": "stdout",
          "output_type": "stream",
          "text": [
            "Epoch 1, Loss: 0.1204\n",
            "Epoch 2, Loss: 0.0879\n",
            "Epoch 3, Loss: 0.0589\n",
            "Epoch 4, Loss: 0.0237\n",
            "Epoch 5, Loss: 0.0159\n",
            "Epoch 6, Loss: 0.0096\n",
            "Epoch 7, Loss: 0.0069\n",
            "Epoch 8, Loss: 0.0050\n",
            "Epoch 9, Loss: 0.0038\n",
            "Epoch 10, Loss: 0.0030\n",
            "Epoch 11, Loss: 0.0025\n",
            "Epoch 12, Loss: 0.0022\n",
            "Epoch 13, Loss: 0.0020\n",
            "Epoch 14, Loss: 0.0018\n",
            "Epoch 15, Loss: 0.0017\n",
            "Epoch 16, Loss: 0.0016\n",
            "Epoch 17, Loss: 0.0015\n",
            "Epoch 18, Loss: 0.0014\n",
            "Epoch 19, Loss: 0.0013\n",
            "Epoch 20, Loss: 0.0013\n"
          ]
        }
      ],
      "source": [
        "# 4. Training AutoEncoder(使用MSE作為Loss Function)\n",
        "device = torch.device('cuda' if torch.cuda.is_available() else 'cpu')\n",
        "model = AutoEncoder().to(device)\n",
        "optimizer = optim.Adam(model.parameters(), lr=1e-3)\n",
        "criterion1 = nn.MSELoss()\n",
        "\n",
        "\n",
        "for epoch in range(20):\n",
        "    model.train()\n",
        "    total_loss = 0\n",
        "    for x in train_loader:\n",
        "        x = x.to(device)\n",
        "        optimizer.zero_grad()\n",
        "        recon = model(x)\n",
        "        loss = criterion1(recon, x)\n",
        "        loss.backward()\n",
        "        optimizer.step()\n",
        "        total_loss += loss.item() * x.size(0)\n",
        "    print(f\"Epoch {epoch+1}, Loss: {total_loss / len(train_loader.dataset):.4f}\")"
      ]
    },
    {
      "cell_type": "code",
      "execution_count": null,
      "metadata": {
        "id": "NL2jhUVFilln"
      },
      "outputs": [],
      "source": [
        "# Testing: compute MSE per image\n",
        "model.eval()\n",
        "mse_scores = []\n",
        "with torch.no_grad():\n",
        "    for x in test_loader:\n",
        "        x = x.to(device)\n",
        "        recon = model(x)\n",
        "        mse = torch.mean((x - recon) ** 2, dim=[1, 2, 3])  # per image MSE\n",
        "        mse_scores.extend(mse.cpu().numpy())\n"
      ]
    },
    {
      "cell_type": "code",
      "execution_count": null,
      "metadata": {
        "colab": {
          "base_uri": "https://localhost:8080/",
          "height": 732
        },
        "id": "FPEY7I0qiloC",
        "outputId": "df5f123a-a5ce-4da3-f70c-454d0cb2d7bb"
      },
      "outputs": [
        {
          "name": "stdout",
          "output_type": "stream",
          "text": [
            "\n",
            "Confusion Matrix:\n"
          ]
        },
        {
          "data": {
            "image/png": "[encoded data removed]",
            "text/plain": [
              "<Figure size 640x480 with 2 Axes>"
            ]
          },
          "metadata": {},
          "output_type": "display_data"
        },
        {
          "name": "stdout",
          "output_type": "stream",
          "text": [
            "\n",
            "Classification Report:\n",
            "              precision    recall  f1-score   support\n",
            "\n",
            "        Good       0.28      0.95      0.44        20\n",
            "      Defect       0.94      0.24      0.38        63\n",
            "\n",
            "    accuracy                           0.41        83\n",
            "   macro avg       0.61      0.59      0.41        83\n",
            "weighted avg       0.78      0.41      0.39        83\n",
            "\n",
            "\n",
            "ROC-AUC Score: 0.5008\n"
          ]
        }
      ],
      "source": [
        "# Set threshold and evaluate\n",
        "threshold = np.percentile(mse_scores[:len(test_good_paths)], 95)  # based on normal data\n",
        "preds = [1 if s > threshold else 0 for s in mse_scores]\n",
        "\n",
        "print(\"\\nConfusion Matrix:\")\n",
        "cm = confusion_matrix(y_test, preds)\n",
        "sns.heatmap(cm, annot=True, fmt='d', cmap='Blues')\n",
        "plt.xlabel(\"Predicted\")\n",
        "plt.ylabel(\"True\")\n",
        "plt.title(\"Confusion Matrix (AutoEncoder)\")\n",
        "plt.show()\n",
        "\n",
        "print(\"\\nClassification Report:\")\n",
        "print(classification_report(y_test, preds, target_names=['Good', 'Defect']))\n",
        "\n",
        "auc = roc_auc_score(y_test, mse_scores)\n",
        "print(f\"\\nROC-AUC Score: {auc:.4f}\")\n"
      ]
    },
    {
      "cell_type": "markdown",
      "metadata": {
        "id": "cbR2pwyraFbw"
      },
      "source": [
        "# Model 2"
      ]
    },
    {
      "cell_type": "code",
      "execution_count": null,
      "metadata": {
        "id": "szkMFp8Ia8tc"
      },
      "outputs": [],
      "source": [
        "from google.colab import drive\n",
        "import glob\n",
        "import cv2\n",
        "import numpy as np\n",
        "from tqdm.auto import tqdm\n",
        "import os\n",
        "import matplotlib.pyplot as plt\n",
        "from torchvision import transforms\n",
        "from torch.utils.data import Dataset, DataLoader\n",
        "from PIL import Image\n",
        "import torch\n",
        "import random\n",
        "from collections import Counter\n",
        "from sklearn.metrics import confusion_matrix, classification_report\n",
        "import seaborn as sns\n"
      ]
    },
    {
      "cell_type": "code",
      "execution_count": null,
      "metadata": {
        "colab": {
          "base_uri": "https://localhost:8080/",
          "height": 232,
          "referenced_widgets": [
            "f6d1f6b57072496bb1654c5659e7d24f",
            "dee0cac6865449f09d2cc56b07a070a1",
            "cb4d436c38c44949bbee09beab449e58",
            "34e90769b6b442118a5e0cfb42eab01e",
            "031387a45aae462b862f08204bdc4a73",
            "18d307b037af4af5a77bb776dd32f7aa",
            "efb01663b840434e871d9a5a1251e477",
            "5379374aeac3426ab6829c67b687b053",
            "c91f150f59014a8aa6b288cb5c538d88",
            "8cd560c507374208b8db57e9f7c0a9b2",
            "7ff2e71cd4e7464f8511a1c4a619d25e",
            "c78681993783444faf59af2164922954",
            "504de675d52d41e8bac70508f059c104",
            "e992e58b0f4f4d8496e5c6fb6379ed33",
            "f4203df87fa34b058803d257ed670b23",
            "fea8bde6076d4c8596e7c4f3a28959d1",
            "0eaf519e8f9f464fa20f714597d8db44",
            "d86641c0b28441baa6de025c4471cf80",
            "26a19e8ad60d4297bc7bf0e1c7a83ada",
            "3531fc903a3c4fdb9c0d56b67e5a04a7",
            "d3f1de834ce0485a9c7ee1f8d0066adc",
            "9e7d0a7ddc634846a0cf7621ae9b152c",
            "ddfbe482ad75446e938e1ed0ccd0c6e5",
            "a92223298acf448fade4ad472008ea28",
            "9f9a9d4d399d4f0b98e4c7fa97cb46ed",
            "ff57dba10d0b4ca8a2f17a8b3beb8291",
            "cd2bfd11a4f14de0b3220a2ce654573f",
            "5fd800166f0c4f95994e572fbad2c1ee",
            "4e7b629e133a4d84b0d6a5eed7fa41d6",
            "bbae268731884758a148d6d1cc36522d",
            "16bc90ec093343818582147fada98e1b",
            "a0b05c7dcc0b47c6ac8f0da8abb7973f",
            "7b61b16e31ba424da8e09b473ff30ea1",
            "09ca8192b86d4d1ca326132664e016c4",
            "664427cc03714ef7ad1925aacf4aa1ca",
            "8f016768846b4951a324af3a707e113d",
            "29bdf62c2ac34be29f4b99c5fa2da9ab",
            "14d63bc3015f42849370023b496f86d0",
            "c7566ff4fdb04b61af638fd37d2aa603",
            "9c36478c43494b6f95ef075d9c2eb07c",
            "6bbca009c2134462b06e88d81acaf6b8",
            "ab737c741bf34cab8dad1b4933c31397",
            "d2af017d2fb94f5daee248c95ae54a57",
            "8d419f2819c74ecc8c12ebaf4017bc99"
          ]
        },
        "id": "75UKgrUJaKLI",
        "outputId": "ff70b947-d532-4ad3-e973-5b06b0a701fb"
      },
      "outputs": [
        {
          "name": "stdout",
          "output_type": "stream",
          "text": [
            "Drive already mounted at /content/drive; to attempt to forcibly remount, call drive.mount(\"/content/drive\", force_remount=True).\n"
          ]
        },
        {
          "data": {
            "application/vnd.jupyter.widget-view+json": {
              "model_id": "f6d1f6b57072496bb1654c5659e7d24f",
              "version_major": 2,
              "version_minor": 0
            },
            "text/plain": [
              "  0%|          | 0/209 [00:00<?, ?it/s]"
            ]
          },
          "metadata": {},
          "output_type": "display_data"
        },
        {
          "data": {
            "application/vnd.jupyter.widget-view+json": {
              "model_id": "c78681993783444faf59af2164922954",
              "version_major": 2,
              "version_minor": 0
            },
            "text/plain": [
              "  0%|          | 0/15 [00:00<?, ?it/s]"
            ]
          },
          "metadata": {},
          "output_type": "display_data"
        },
        {
          "data": {
            "application/vnd.jupyter.widget-view+json": {
              "model_id": "ddfbe482ad75446e938e1ed0ccd0c6e5",
              "version_major": 2,
              "version_minor": 0
            },
            "text/plain": [
              "  0%|          | 0/20 [00:00<?, ?it/s]"
            ]
          },
          "metadata": {},
          "output_type": "display_data"
        },
        {
          "data": {
            "application/vnd.jupyter.widget-view+json": {
              "model_id": "09ca8192b86d4d1ca326132664e016c4",
              "version_major": 2,
              "version_minor": 0
            },
            "text/plain": [
              "  0%|          | 0/48 [00:00<?, ?it/s]"
            ]
          },
          "metadata": {},
          "output_type": "display_data"
        },
        {
          "name": "stdout",
          "output_type": "stream",
          "text": [
            "✅ x_train: (224, 900, 900, 3) y_train: (224,)\n",
            "✅ x_test : (68, 900, 900, 3) y_test : (68,)\n",
            "y_train counts: [209  15]\n",
            "y_test counts : [20 48]\n"
          ]
        }
      ],
      "source": [
        "# =====================\n",
        "# 1. Mount Google Drive and Set Data Path\n",
        "# =====================\n",
        "\n",
        "# Mount Drive and set base path\n",
        "drive.mount('/content/drive')\n",
        "base_path = '/content/drive/MyDrive/Colab_Notebooks/DL_HW3/bottle'\n",
        "\n",
        "# =====================\n",
        "# 2. Load train (good) images and sampled defect images\n",
        "# =====================\n",
        "train_good_paths = sorted(glob.glob(f\"{base_path}/train/good/*.png\"))\n",
        "train_defect_paths = []\n",
        "sampled_defect_set = set()\n",
        "\n",
        "# 從每個 defect 類別中抽 N 張當作異常訓練資料\n",
        "N = 5\n",
        "all_defect_dirs = sorted([d for d in glob.glob(f\"{base_path}/test/*\") if 'good' not in d])\n",
        "for defect_dir in all_defect_dirs:\n",
        "    paths = sorted(glob.glob(f\"{defect_dir}/*.png\"))\n",
        "    sampled = random.sample(paths, min(N, len(paths)))\n",
        "    train_defect_paths.extend(sampled)\n",
        "    sampled_defect_set.update(sampled)\n",
        "\n",
        "x_train, y_train = [], []\n",
        "for path in tqdm(train_good_paths):\n",
        "    img = cv2.imread(path)\n",
        "    img = cv2.cvtColor(img, cv2.COLOR_BGR2RGB)\n",
        "    x_train.append(img)\n",
        "    y_train.append(0)\n",
        "for path in tqdm(train_defect_paths):\n",
        "    img = cv2.imread(path)\n",
        "    img = cv2.cvtColor(img, cv2.COLOR_BGR2RGB)\n",
        "    x_train.append(img)\n",
        "    y_train.append(1)\n",
        "\n",
        "# =====================\n",
        "# 3. Load test images (good + all defect excluding used ones)\n",
        "# =====================\n",
        "test_good_paths = sorted(glob.glob(f\"{base_path}/test/good/*.png\"))\n",
        "test_defect_paths = sorted([p for p in glob.glob(f\"{base_path}/test/*/*.png\") if 'good' not in p and p not in sampled_defect_set])\n",
        "\n",
        "x_test, y_test = [], []\n",
        "for path in tqdm(test_good_paths):\n",
        "    img = cv2.imread(path)\n",
        "    img = cv2.cvtColor(img, cv2.COLOR_BGR2RGB)\n",
        "    x_test.append(img)\n",
        "    y_test.append(0)\n",
        "for path in tqdm(test_defect_paths):\n",
        "    img = cv2.imread(path)\n",
        "    img = cv2.cvtColor(img, cv2.COLOR_BGR2RGB)\n",
        "    x_test.append(img)\n",
        "    y_test.append(1)\n",
        "\n",
        "x_train = np.array(x_train)\n",
        "y_train = np.array(y_train)\n",
        "x_test = np.array(x_test)\n",
        "y_test = np.array(y_test)\n",
        "\n",
        "print(\"✅ x_train:\", x_train.shape, \"y_train:\", y_train.shape)\n",
        "print(\"✅ x_test :\", x_test.shape,  \"y_test :\", y_test.shape)\n",
        "print(\"y_train counts:\", np.bincount(y_train))\n",
        "print(\"y_test counts :\", np.bincount(y_test))\n"
      ]
    },
    {
      "cell_type": "code",
      "execution_count": null,
      "metadata": {
        "id": "z0HLmdNLaKNT"
      },
      "outputs": [],
      "source": [
        "from torch.utils.data import Dataset, DataLoader\n",
        "import torchvision.transforms as transforms\n",
        "from PIL import Image\n",
        "import torch\n",
        "\n",
        "# 標準 ImageNet Normalize（搭配 ResNet 使用）\n",
        "mean = [0.485, 0.456, 0.406]\n",
        "std = [0.229, 0.224, 0.225]\n",
        "\n",
        "train_transform = transforms.Compose([\n",
        "    transforms.Resize((224, 224)),\n",
        "    transforms.RandomHorizontalFlip(),\n",
        "    transforms.ToTensor(),\n",
        "    transforms.Normalize(mean, std),\n",
        "])\n",
        "\n",
        "test_transform = transforms.Compose([\n",
        "    transforms.Resize((224, 224)),\n",
        "    transforms.ToTensor(),\n",
        "    transforms.Normalize(mean, std),\n",
        "])\n",
        "\n",
        "# 建立 Dataset 類別\n",
        "class AnomalyDataset(Dataset):\n",
        "    def __init__(self, images, labels, transform=None):\n",
        "        self.images = images\n",
        "        self.labels = labels\n",
        "        self.transform = transform\n",
        "\n",
        "    def __len__(self):\n",
        "        return len(self.images)\n",
        "\n",
        "    def __getitem__(self, idx):\n",
        "        img = self.images[idx]\n",
        "        label = self.labels[idx]\n",
        "\n",
        "        img = Image.fromarray(img.astype(np.uint8))  # numpy → PIL\n",
        "        if self.transform:\n",
        "            img = self.transform(img)\n",
        "\n",
        "        return img, label\n"
      ]
    },
    {
      "cell_type": "code",
      "execution_count": null,
      "metadata": {
        "id": "5qy7NGaSaKPU"
      },
      "outputs": [],
      "source": [
        "# 建立 Dataset 實例\n",
        "train_dataset = AnomalyDataset(x_train, y_train, transform=train_transform)\n",
        "test_dataset = AnomalyDataset(x_test, y_test, transform=test_transform)\n",
        "\n",
        "# DataLoader（建議 batch size 可依 GPU 記憶體調整）\n",
        "batch_size = 32\n",
        "train_loader = DataLoader(train_dataset, batch_size=batch_size, shuffle=True)\n",
        "test_loader = DataLoader(test_dataset, batch_size=batch_size, shuffle=False)\n"
      ]
    },
    {
      "cell_type": "code",
      "execution_count": null,
      "metadata": {
        "colab": {
          "base_uri": "https://localhost:8080/"
        },
        "id": "UIKEkJohaKRR",
        "outputId": "3906ff2a-06ea-4afa-ec4b-dc2664d03bdf"
      },
      "outputs": [
        {
          "name": "stdout",
          "output_type": "stream",
          "text": [
            "🖥️ Using device: cuda\n"
          ]
        },
        {
          "name": "stderr",
          "output_type": "stream",
          "text": [
            "Downloading: \"https://download.pytorch.org/models/resnet18-f37072fd.pth\" to /root/.cache/torch/hub/checkpoints/resnet18-f37072fd.pth\n",
            "100%|██████████| 44.7M/44.7M [00:00<00:00, 131MB/s]\n"
          ]
        }
      ],
      "source": [
        "import torchvision.models as models\n",
        "import torch.nn as nn\n",
        "\n",
        "device = torch.device(\"cuda\" if torch.cuda.is_available() else \"cpu\")\n",
        "print(\"🖥️ Using device:\", device)\n",
        "\n",
        "model = models.resnet18(weights=\"IMAGENET1K_V1\")\n",
        "model.fc = nn.Linear(model.fc.in_features, 2)  # 二元分類輸出\n",
        "\n",
        "model = model.to(device)\n"
      ]
    },
    {
      "cell_type": "code",
      "execution_count": null,
      "metadata": {
        "colab": {
          "base_uri": "https://localhost:8080/"
        },
        "id": "b4PQW0ICaWEm",
        "outputId": "48cfea79-36e6-4a3a-9cbc-866a36de32fa"
      },
      "outputs": [
        {
          "name": "stdout",
          "output_type": "stream",
          "text": [
            "[Epoch 1/10] Train Loss: 0.3161 | Acc: 0.9375 || Val Loss: 1.7058 | Acc: 0.3088\n",
            "[Epoch 2/10] Train Loss: 0.0567 | Acc: 0.9955 || Val Loss: 1.1595 | Acc: 0.5294\n",
            "[Epoch 3/10] Train Loss: 0.0199 | Acc: 1.0000 || Val Loss: 0.7062 | Acc: 0.8088\n",
            "[Epoch 4/10] Train Loss: 0.0116 | Acc: 0.9955 || Val Loss: 0.4184 | Acc: 0.8824\n",
            "[Epoch 5/10] Train Loss: 0.0037 | Acc: 1.0000 || Val Loss: 0.2790 | Acc: 0.9265\n",
            "[Epoch 6/10] Train Loss: 0.0218 | Acc: 0.9955 || Val Loss: 0.5081 | Acc: 0.8529\n",
            "[Epoch 7/10] Train Loss: 0.0158 | Acc: 0.9955 || Val Loss: 0.4582 | Acc: 0.8824\n",
            "[Epoch 8/10] Train Loss: 0.0045 | Acc: 1.0000 || Val Loss: 0.3862 | Acc: 0.8824\n",
            "[Epoch 9/10] Train Loss: 0.0069 | Acc: 1.0000 || Val Loss: 0.4217 | Acc: 0.8824\n",
            "[Epoch 10/10] Train Loss: 0.0053 | Acc: 1.0000 || Val Loss: 0.4635 | Acc: 0.8824\n"
          ]
        }
      ],
      "source": [
        "#Try 1: 一般Loss Function\n",
        "import torch.optim as optim\n",
        "\n",
        "criterion = nn.CrossEntropyLoss()\n",
        "optimizer = optim.Adam(model.parameters(), lr=1e-4)\n",
        "\n",
        "num_epochs = 10\n",
        "\n",
        "for epoch in range(num_epochs):\n",
        "    # === Training ===\n",
        "    model.train()\n",
        "    total_loss, correct, total = 0, 0, 0\n",
        "\n",
        "    for inputs, labels in train_loader:\n",
        "        inputs, labels = inputs.to(device), labels.to(device)\n",
        "        optimizer.zero_grad()\n",
        "        outputs = model(inputs)\n",
        "        loss = criterion(outputs, labels)\n",
        "        loss.backward()\n",
        "        optimizer.step()\n",
        "\n",
        "        total_loss += loss.item() * inputs.size(0)\n",
        "        _, preds = torch.max(outputs, 1)\n",
        "        correct += (preds == labels).sum().item()\n",
        "        total += labels.size(0)\n",
        "\n",
        "    train_acc = correct / total\n",
        "    avg_train_loss = total_loss / total\n",
        "\n",
        "    # === Evaluation ===\n",
        "    model.eval()\n",
        "    val_loss, val_correct, val_total = 0, 0, 0\n",
        "\n",
        "    with torch.no_grad():\n",
        "        for inputs, labels in test_loader:\n",
        "            inputs, labels = inputs.to(device), labels.to(device)\n",
        "            outputs = model(inputs)\n",
        "            loss = criterion(outputs, labels)\n",
        "            val_loss += loss.item() * inputs.size(0)\n",
        "            _, preds = torch.max(outputs, 1)\n",
        "            val_correct += (preds == labels).sum().item()\n",
        "            val_total += labels.size(0)\n",
        "\n",
        "    val_acc = val_correct / val_total\n",
        "    avg_val_loss = val_loss / val_total\n",
        "\n",
        "    print(f\"[Epoch {epoch+1}/{num_epochs}] \"\n",
        "          f\"Train Loss: {avg_train_loss:.4f} | Acc: {train_acc:.4f} || \"\n",
        "          f\"Val Loss: {avg_val_loss:.4f} | Acc: {val_acc:.4f}\")\n"
      ]
    },
    {
      "cell_type": "code",
      "execution_count": null,
      "metadata": {
        "colab": {
          "base_uri": "https://localhost:8080/",
          "height": 1000
        },
        "id": "6UQHZ4WnaWG1",
        "outputId": "178e3011-7755-4623-97d2-753555ec4a79"
      },
      "outputs": [
        {
          "data": {
            "image/png": "[encoded data removed]",
            "text/plain": [
              "<Figure size 640x480 with 1 Axes>"
            ]
          },
          "metadata": {},
          "output_type": "display_data"
        },
        {
          "data": {
            "image/png": "[encoded data removed]",
            "text/plain": [
              "<Figure size 640x480 with 2 Axes>"
            ]
          },
          "metadata": {},
          "output_type": "display_data"
        },
        {
          "name": "stdout",
          "output_type": "stream",
          "text": [
            "\n",
            "📊 Classification Report:\n",
            "              precision    recall  f1-score   support\n",
            "\n",
            "        Good       0.71      1.00      0.83        20\n",
            "      Defect       1.00      0.83      0.91        48\n",
            "\n",
            "    accuracy                           0.88        68\n",
            "   macro avg       0.86      0.92      0.87        68\n",
            "weighted avg       0.92      0.88      0.89        68\n",
            "\n"
          ]
        }
      ],
      "source": [
        "# 4. 視覺化測試集分布與模型評估\n",
        "\n",
        "from collections import Counter\n",
        "from sklearn.metrics import confusion_matrix\n",
        "\n",
        "# （1）顯示測試集標籤分布\n",
        "label_counts = Counter(y_test)\n",
        "plt.bar(['Good (0)', 'Defect (1)'], [label_counts[0], label_counts[1]])\n",
        "plt.title('Test Set Label Distribution')\n",
        "plt.show()\n",
        "\n",
        "# （2）模型推論與混淆矩陣（需有 model 與 test_loader）\n",
        "model.eval()\n",
        "all_preds = []\n",
        "all_labels = []\n",
        "\n",
        "with torch.no_grad():\n",
        "    for inputs, labels in test_loader:\n",
        "        inputs = inputs.to(device)\n",
        "        outputs = model(inputs)\n",
        "        _, preds = torch.max(outputs, 1)\n",
        "        all_preds.extend(preds.cpu().numpy())\n",
        "        all_labels.extend(labels.cpu().numpy())\n",
        "\n",
        "cm = confusion_matrix(all_labels, all_preds)\n",
        "sns.heatmap(cm, annot=True, fmt='d', cmap='Blues')\n",
        "plt.xlabel('Predicted')\n",
        "plt.ylabel('True')\n",
        "plt.title('Confusion Matrix')\n",
        "plt.show()\n",
        "\n",
        "print(\"\\n📊 Classification Report:\")\n",
        "print(classification_report(all_labels, all_preds, target_names=['Good', 'Defect']))\n"
      ]
    },
    {
      "cell_type": "markdown",
      "metadata": {
        "id": "x63wlZZQaeIB"
      },
      "source": [
        "# Model 3"
      ]
    },
    {
      "cell_type": "code",
      "execution_count": null,
      "metadata": {
        "colab": {
          "base_uri": "https://localhost:8080/"
        },
        "id": "B3bUVa8KaWIx",
        "outputId": "e77af263-3e7a-41fe-f5a4-130618826b1b"
      },
      "outputs": [
        {
          "name": "stdout",
          "output_type": "stream",
          "text": [
            "[Epoch 1/10] Train Loss: 0.0008 | Acc: 1.0000 || Val Loss: 0.3282 | Acc: 0.9265\n",
            "[Epoch 2/10] Train Loss: 0.0469 | Acc: 0.9911 || Val Loss: 0.4180 | Acc: 0.8971\n",
            "[Epoch 3/10] Train Loss: 0.0005 | Acc: 1.0000 || Val Loss: 0.3738 | Acc: 0.8971\n",
            "[Epoch 4/10] Train Loss: 0.0125 | Acc: 0.9955 || Val Loss: 0.1818 | Acc: 0.9412\n",
            "[Epoch 5/10] Train Loss: 0.0211 | Acc: 0.9955 || Val Loss: 0.2875 | Acc: 0.9118\n",
            "[Epoch 6/10] Train Loss: 0.0098 | Acc: 1.0000 || Val Loss: 0.3113 | Acc: 0.8971\n",
            "[Epoch 7/10] Train Loss: 0.0034 | Acc: 1.0000 || Val Loss: 0.3527 | Acc: 0.8824\n",
            "[Epoch 8/10] Train Loss: 0.0016 | Acc: 1.0000 || Val Loss: 0.3633 | Acc: 0.8824\n",
            "[Epoch 9/10] Train Loss: 0.0010 | Acc: 1.0000 || Val Loss: 0.3737 | Acc: 0.8824\n",
            "[Epoch 10/10] Train Loss: 0.0007 | Acc: 1.0000 || Val Loss: 0.3794 | Acc: 0.8824\n"
          ]
        }
      ],
      "source": [
        "#Try 2: weighted version of standard CrossEntropyLoss\n",
        "import torch.optim as optim\n",
        "weights = torch.tensor([1.0, 3.0], dtype=torch.float).to(device)# 使用 class weights：讓異常錯誤被放大懲罰\n",
        "criterion = nn.CrossEntropyLoss(weight=weights)\n",
        "optimizer = optim.Adam(model.parameters(), lr=1e-4)\n",
        "\n",
        "num_epochs = 10\n",
        "\n",
        "for epoch in range(num_epochs):\n",
        "    # === Training ===\n",
        "    model.train()\n",
        "    total_loss, correct, total = 0, 0, 0\n",
        "\n",
        "    for inputs, labels in train_loader:\n",
        "        inputs, labels = inputs.to(device), labels.to(device)\n",
        "        optimizer.zero_grad()\n",
        "        outputs = model(inputs)\n",
        "        loss = criterion(outputs, labels)\n",
        "        loss.backward()\n",
        "        optimizer.step()\n",
        "\n",
        "        total_loss += loss.item() * inputs.size(0)\n",
        "        _, preds = torch.max(outputs, 1)\n",
        "        correct += (preds == labels).sum().item()\n",
        "        total += labels.size(0)\n",
        "\n",
        "    train_acc = correct / total\n",
        "    avg_train_loss = total_loss / total\n",
        "\n",
        "    # === Evaluation ===\n",
        "    model.eval()\n",
        "    val_loss, val_correct, val_total = 0, 0, 0\n",
        "\n",
        "    with torch.no_grad():\n",
        "        for inputs, labels in test_loader:\n",
        "            inputs, labels = inputs.to(device), labels.to(device)\n",
        "            outputs = model(inputs)\n",
        "            loss = criterion(outputs, labels)\n",
        "            val_loss += loss.item() * inputs.size(0)\n",
        "            _, preds = torch.max(outputs, 1)\n",
        "            val_correct += (preds == labels).sum().item()\n",
        "            val_total += labels.size(0)\n",
        "\n",
        "    val_acc = val_correct / val_total\n",
        "    avg_val_loss = val_loss / val_total\n",
        "\n",
        "    print(f\"[Epoch {epoch+1}/{num_epochs}] \"\n",
        "          f\"Train Loss: {avg_train_loss:.4f} | Acc: {train_acc:.4f} || \"\n",
        "          f\"Val Loss: {avg_val_loss:.4f} | Acc: {val_acc:.4f}\")\n"
      ]
    },
    {
      "cell_type": "code",
      "execution_count": null,
      "metadata": {
        "colab": {
          "base_uri": "https://localhost:8080/",
          "height": 1000
        },
        "id": "ktisLNqUaWK5",
        "outputId": "b10e5998-6f77-47e8-ad0d-fa7966f5f362"
      },
      "outputs": [
        {
          "data": {
            "image/png": "[encoded data removed]",
            "text/plain": [
              "<Figure size 640x480 with 1 Axes>"
            ]
          },
          "metadata": {},
          "output_type": "display_data"
        },
        {
          "data": {
            "image/png": "[encoded data removed]",
            "text/plain": [
              "<Figure size 640x480 with 2 Axes>"
            ]
          },
          "metadata": {},
          "output_type": "display_data"
        },
        {
          "name": "stdout",
          "output_type": "stream",
          "text": [
            "\n",
            "📊 Classification Report:\n",
            "              precision    recall  f1-score   support\n",
            "\n",
            "        Good       0.71      1.00      0.83        20\n",
            "      Defect       1.00      0.83      0.91        48\n",
            "\n",
            "    accuracy                           0.88        68\n",
            "   macro avg       0.86      0.92      0.87        68\n",
            "weighted avg       0.92      0.88      0.89        68\n",
            "\n"
          ]
        }
      ],
      "source": [
        "# 視覺化測試集分布與模型評估\n",
        "\n",
        "from collections import Counter\n",
        "from sklearn.metrics import confusion_matrix\n",
        "\n",
        "# （1）顯示測試集標籤分布\n",
        "label_counts = Counter(y_test)\n",
        "plt.bar(['Good (0)', 'Defect (1)'], [label_counts[0], label_counts[1]])\n",
        "plt.title('Test Set Label Distribution')\n",
        "plt.show()\n",
        "\n",
        "# （2）模型推論與混淆矩陣（需有 model 與 test_loader）\n",
        "model.eval()\n",
        "all_preds = []\n",
        "all_labels = []\n",
        "\n",
        "with torch.no_grad():\n",
        "    for inputs, labels in test_loader:\n",
        "        inputs = inputs.to(device)\n",
        "        outputs = model(inputs)\n",
        "        _, preds = torch.max(outputs, 1)\n",
        "        all_preds.extend(preds.cpu().numpy())\n",
        "        all_labels.extend(labels.cpu().numpy())\n",
        "\n",
        "cm = confusion_matrix(all_labels, all_preds)\n",
        "sns.heatmap(cm, annot=True, fmt='d', cmap='Blues')\n",
        "plt.xlabel('Predicted')\n",
        "plt.ylabel('True')\n",
        "plt.title('Confusion Matrix')\n",
        "plt.show()\n",
        "\n",
        "print(\"\\n📊 Classification Report:\")\n",
        "print(classification_report(all_labels, all_preds, target_names=['Good', 'Defect']))\n"
      ]
    },
    {
      "cell_type": "markdown",
      "metadata": {
        "id": "h_K9TbVWalPS"
      },
      "source": [
        "# Model 4"
      ]
    },
    {
      "cell_type": "code",
      "execution_count": null,
      "metadata": {
        "id": "2JAlItYxaWNH"
      },
      "outputs": [],
      "source": [
        "from google.colab import drive\n",
        "import glob\n",
        "import cv2\n",
        "import numpy as np\n",
        "from tqdm.auto import tqdm\n",
        "import os\n",
        "import matplotlib.pyplot as plt\n",
        "from torchvision import transforms\n",
        "from torch.utils.data import Dataset, DataLoader\n",
        "from PIL import Image\n",
        "import torch\n",
        "import random\n",
        "from collections import Counter\n",
        "from sklearn.metrics import confusion_matrix, classification_report\n",
        "import seaborn as sns\n"
      ]
    },
    {
      "cell_type": "code",
      "execution_count": null,
      "metadata": {
        "colab": {
          "base_uri": "https://localhost:8080/",
          "height": 232,
          "referenced_widgets": [
            "24be49a9f17740208644011ad47d5782",
            "56821e68d0b7451d99d2c337d88f20e7",
            "32ce4701e33c48c5afffccd5eb550125",
            "1c5a73e83817466d997d8071a6639a86",
            "6fb5235ea54542c792b433763447ec82",
            "710876c813fe4672aae1801408be1668",
            "e02dfaeb0deb44f5b8dda5fca7c1424a",
            "d81a8687b1d84308bfef1c14a90ae4ce",
            "91d703771da94581849e1cbc4e717901",
            "5451fc75a11a41218282d92df548b1ac",
            "9092a9a2d2da43c4ad1cb24d9a72f9e1",
            "aa54dfbcba774cf38dbec561956789c8",
            "10077171b2f44d65bfd231c0e58a1bbd",
            "8b77d65534bb4369894b34d4ac708d7b",
            "a2c604b6c6e247efbb1a526eb4802c68",
            "fee205eb65d145a59479a7ed23911b0e",
            "444ce82c585b4953a72e90a540cfd7ed",
            "2c8366eddb3b4c77918aeecb9776af08",
            "e14356c1bbe341588d050ea4cdfd308f",
            "96a7118b4bd84ed6ac5ffb2102c15862",
            "228b2173ca85408aaa0c73f93041ec8d",
            "5652764ab7c441f48919ab2403c94678",
            "0deda87d2bba4520aa7e06ab5724b3b3",
            "f641327d5fed428cac30feb784ea2a5e",
            "7b65d2660634423fad4554d689ca0118",
            "fee17e2e8c414694908e7427bfbacba3",
            "13b707b993d640ac8a6e52308237b135",
            "a15044f8bd684c8faaf376c918f56229",
            "47ba4e6e000d4f1ca22c5e484bcb0899",
            "48514eef33d44f0a86616ee8d77143c6",
            "c9af58b6ba27497f97b7e21f706e49fd",
            "ad99a10bf6704df4894466a456a9f839",
            "597b2dccfead473ba2958e787d0f2648",
            "a2e0d3074f2641b2ac7fe14eabd2dc6a",
            "bccc2dc1c6a04db0ba8e12e755008778",
            "27ffc12f5abb43ac8c412007fbf69370",
            "852f73fff681474688c3a7f213bf8fd2",
            "f7e1e650b82047c7ab260ef8c2c35b51",
            "8462211e0eaf4bc0bc2eb125e36a8c35",
            "90f47ba25f0f405fb860d9f430721e84",
            "5b81c1baa3024e959812dd1d4447b13e",
            "bb97665043d74f02b708c7fcecfabfaf",
            "ea1f3eb175fe4644a783f35605c040df",
            "222e0d9341e44675ac04fe6ed3441e8b"
          ]
        },
        "id": "ZfDbsqA9aWPR",
        "outputId": "676233ec-dfa2-4542-d100-a218a5b622d2"
      },
      "outputs": [
        {
          "name": "stdout",
          "output_type": "stream",
          "text": [
            "Drive already mounted at /content/drive; to attempt to forcibly remount, call drive.mount(\"/content/drive\", force_remount=True).\n"
          ]
        },
        {
          "data": {
            "application/vnd.jupyter.widget-view+json": {
              "model_id": "24be49a9f17740208644011ad47d5782",
              "version_major": 2,
              "version_minor": 0
            },
            "text/plain": [
              "  0%|          | 0/209 [00:00<?, ?it/s]"
            ]
          },
          "metadata": {},
          "output_type": "display_data"
        },
        {
          "data": {
            "application/vnd.jupyter.widget-view+json": {
              "model_id": "aa54dfbcba774cf38dbec561956789c8",
              "version_major": 2,
              "version_minor": 0
            },
            "text/plain": [
              "  0%|          | 0/15 [00:00<?, ?it/s]"
            ]
          },
          "metadata": {},
          "output_type": "display_data"
        },
        {
          "data": {
            "application/vnd.jupyter.widget-view+json": {
              "model_id": "0deda87d2bba4520aa7e06ab5724b3b3",
              "version_major": 2,
              "version_minor": 0
            },
            "text/plain": [
              "  0%|          | 0/20 [00:00<?, ?it/s]"
            ]
          },
          "metadata": {},
          "output_type": "display_data"
        },
        {
          "data": {
            "application/vnd.jupyter.widget-view+json": {
              "model_id": "a2e0d3074f2641b2ac7fe14eabd2dc6a",
              "version_major": 2,
              "version_minor": 0
            },
            "text/plain": [
              "  0%|          | 0/48 [00:00<?, ?it/s]"
            ]
          },
          "metadata": {},
          "output_type": "display_data"
        },
        {
          "name": "stdout",
          "output_type": "stream",
          "text": [
            "✅ x_train: (224, 900, 900, 3) y_train: (224,)\n",
            "✅ x_test : (68, 900, 900, 3) y_test : (68,)\n",
            "y_train counts: [209  15]\n",
            "y_test counts : [20 48]\n"
          ]
        }
      ],
      "source": [
        "# =====================\n",
        "# 1. Mount Google Drive and Set Data Path\n",
        "# =====================\n",
        "\n",
        "# Mount Drive and set base path\n",
        "drive.mount('/content/drive')\n",
        "base_path = '/content/drive/MyDrive/Colab_Notebooks/DL_HW3/bottle'\n",
        "\n",
        "# =====================\n",
        "# 2. Load train (good) images and sampled defect images\n",
        "# =====================\n",
        "train_good_paths = sorted(glob.glob(f\"{base_path}/train/good/*.png\"))\n",
        "train_defect_paths = []\n",
        "sampled_defect_set = set()\n",
        "\n",
        "# 從每個 defect 類別中抽 N 張當作異常訓練資料\n",
        "N = 5\n",
        "all_defect_dirs = sorted([d for d in glob.glob(f\"{base_path}/test/*\") if 'good' not in d])\n",
        "for defect_dir in all_defect_dirs:\n",
        "    paths = sorted(glob.glob(f\"{defect_dir}/*.png\"))\n",
        "    sampled = random.sample(paths, min(N, len(paths)))\n",
        "    train_defect_paths.extend(sampled)\n",
        "    sampled_defect_set.update(sampled)\n",
        "\n",
        "x_train, y_train = [], []\n",
        "for path in tqdm(train_good_paths):\n",
        "    img = cv2.imread(path)\n",
        "    img = cv2.cvtColor(img, cv2.COLOR_BGR2RGB)\n",
        "    x_train.append(img)\n",
        "    y_train.append(0)\n",
        "for path in tqdm(train_defect_paths):\n",
        "    img = cv2.imread(path)\n",
        "    img = cv2.cvtColor(img, cv2.COLOR_BGR2RGB)\n",
        "    x_train.append(img)\n",
        "    y_train.append(1)\n",
        "\n",
        "# =====================\n",
        "# 3. Load test images (good + all defect excluding used ones)\n",
        "# =====================\n",
        "test_good_paths = sorted(glob.glob(f\"{base_path}/test/good/*.png\"))\n",
        "test_defect_paths = sorted([p for p in glob.glob(f\"{base_path}/test/*/*.png\") if 'good' not in p and p not in sampled_defect_set])\n",
        "\n",
        "x_test, y_test = [], []\n",
        "for path in tqdm(test_good_paths):\n",
        "    img = cv2.imread(path)\n",
        "    img = cv2.cvtColor(img, cv2.COLOR_BGR2RGB)\n",
        "    x_test.append(img)\n",
        "    y_test.append(0)\n",
        "for path in tqdm(test_defect_paths):\n",
        "    img = cv2.imread(path)\n",
        "    img = cv2.cvtColor(img, cv2.COLOR_BGR2RGB)\n",
        "    x_test.append(img)\n",
        "    y_test.append(1)\n",
        "\n",
        "x_train = np.array(x_train)\n",
        "y_train = np.array(y_train)\n",
        "x_test = np.array(x_test)\n",
        "y_test = np.array(y_test)\n",
        "\n",
        "print(\"✅ x_train:\", x_train.shape, \"y_train:\", y_train.shape)\n",
        "print(\"✅ x_test :\", x_test.shape,  \"y_test :\", y_test.shape)\n",
        "print(\"y_train counts:\", np.bincount(y_train))\n",
        "print(\"y_test counts :\", np.bincount(y_test))\n"
      ]
    },
    {
      "cell_type": "code",
      "execution_count": null,
      "metadata": {
        "id": "u_dUWeUcaWRV"
      },
      "outputs": [],
      "source": [
        "from torch.utils.data import Dataset, DataLoader\n",
        "import torchvision.transforms as transforms\n",
        "from PIL import Image\n",
        "import torch\n",
        "\n",
        "# 標準 ImageNet Normalize（搭配 ResNet 使用）\n",
        "mean = [0.485, 0.456, 0.406]\n",
        "std = [0.229, 0.224, 0.225]\n",
        "\n",
        "train_transform = transforms.Compose([\n",
        "    transforms.Resize((224, 224)),\n",
        "    transforms.RandomHorizontalFlip(),\n",
        "    transforms.ToTensor(),\n",
        "    transforms.Normalize(mean, std),\n",
        "])\n",
        "\n",
        "test_transform = transforms.Compose([\n",
        "    transforms.Resize((224, 224)),\n",
        "    transforms.ToTensor(),\n",
        "    transforms.Normalize(mean, std),\n",
        "])\n",
        "\n",
        "# 建立 Dataset 類別\n",
        "class AnomalyDataset(Dataset):\n",
        "    def __init__(self, images, labels, transform=None):\n",
        "        self.images = images\n",
        "        self.labels = labels\n",
        "        self.transform = transform\n",
        "\n",
        "    def __len__(self):\n",
        "        return len(self.images)\n",
        "\n",
        "    def __getitem__(self, idx):\n",
        "        img = self.images[idx]\n",
        "        label = self.labels[idx]\n",
        "\n",
        "        img = Image.fromarray(img.astype(np.uint8))  # numpy → PIL\n",
        "        if self.transform:\n",
        "            img = self.transform(img)\n",
        "\n",
        "        return img, label\n"
      ]
    },
    {
      "cell_type": "code",
      "execution_count": null,
      "metadata": {
        "id": "4lD2NUsRarVV"
      },
      "outputs": [],
      "source": [
        "# 建立 Dataset 實例\n",
        "train_dataset = AnomalyDataset(x_train, y_train, transform=train_transform)\n",
        "test_dataset = AnomalyDataset(x_test, y_test, transform=test_transform)\n",
        "\n",
        "# DataLoader（建議 batch size 可依 GPU 記憶體調整）\n",
        "batch_size = 32\n",
        "train_loader = DataLoader(train_dataset, batch_size=batch_size, shuffle=True)\n",
        "test_loader = DataLoader(test_dataset, batch_size=batch_size, shuffle=False)\n"
      ]
    },
    {
      "cell_type": "code",
      "execution_count": null,
      "metadata": {
        "colab": {
          "base_uri": "https://localhost:8080/"
        },
        "id": "1oCTJfsuarXP",
        "outputId": "0cd0afc3-18c3-4880-cbaf-05f805a48dec"
      },
      "outputs": [
        {
          "name": "stdout",
          "output_type": "stream",
          "text": [
            "🖥️ Using device: cuda\n"
          ]
        }
      ],
      "source": [
        "import torchvision.models as models\n",
        "import torch.nn as nn\n",
        "\n",
        "device = torch.device(\"cuda\" if torch.cuda.is_available() else \"cpu\")\n",
        "print(\"🖥️ Using device:\", device)\n",
        "\n",
        "model = models.resnet18(weights=\"IMAGENET1K_V1\")\n",
        "model.fc = nn.Sequential(\n",
        "    nn.Linear(512, 128),\n",
        "    nn.ReLU(),\n",
        "    nn.Dropout(p=0.2),\n",
        "    nn.Linear(128, 2)\n",
        ")\n",
        "\n",
        "model = model.to(device)\n"
      ]
    },
    {
      "cell_type": "code",
      "execution_count": null,
      "metadata": {
        "colab": {
          "base_uri": "https://localhost:8080/"
        },
        "id": "NavtvWSnarZg",
        "outputId": "bea4949d-dbd7-4e8c-a1c2-b25b094d8d1e"
      },
      "outputs": [
        {
          "name": "stdout",
          "output_type": "stream",
          "text": [
            "[Epoch 1/10] Train Loss: 0.2571 | Acc: 0.9018 || Val Loss: 0.7066 | Acc: 0.7206\n",
            "[Epoch 2/10] Train Loss: 0.0947 | Acc: 0.9643 || Val Loss: 0.2631 | Acc: 0.8529\n",
            "[Epoch 3/10] Train Loss: 0.1084 | Acc: 0.9777 || Val Loss: 10.2138 | Acc: 0.7059\n",
            "[Epoch 4/10] Train Loss: 0.1341 | Acc: 0.9643 || Val Loss: 2.3810 | Acc: 0.7059\n",
            "[Epoch 5/10] Train Loss: 0.0492 | Acc: 0.9955 || Val Loss: 1.0456 | Acc: 0.8824\n",
            "[Epoch 6/10] Train Loss: 0.0161 | Acc: 1.0000 || Val Loss: 1.6679 | Acc: 0.7941\n",
            "[Epoch 7/10] Train Loss: 0.0541 | Acc: 0.9955 || Val Loss: 0.8020 | Acc: 0.8529\n",
            "[Epoch 8/10] Train Loss: 0.0646 | Acc: 0.9821 || Val Loss: 0.1455 | Acc: 0.8824\n",
            "[Epoch 9/10] Train Loss: 0.0909 | Acc: 0.9911 || Val Loss: 1.7278 | Acc: 0.7059\n",
            "[Epoch 10/10] Train Loss: 0.0802 | Acc: 0.9911 || Val Loss: 0.1518 | Acc: 0.9559\n"
          ]
        }
      ],
      "source": [
        "import torch.optim as optim\n",
        "\n",
        "#criterion = nn.CrossEntropyLoss()\n",
        "weights = torch.tensor([1.0, 3.0], dtype=torch.float).to(device)# 使用 class weights：讓異常錯誤被放大懲罰\n",
        "criterion = nn.CrossEntropyLoss(weight=weights)\n",
        "optimizer = optim.Adam(model.parameters(), weight_decay=1e-5)\n",
        "\n",
        "num_epochs = 10\n",
        "\n",
        "for epoch in range(num_epochs):\n",
        "    # === Training ===\n",
        "    model.train()\n",
        "    total_loss, correct, total = 0, 0, 0\n",
        "\n",
        "    for inputs, labels in train_loader:\n",
        "        inputs, labels = inputs.to(device), labels.to(device)\n",
        "        optimizer.zero_grad()\n",
        "        outputs = model(inputs)\n",
        "        loss = criterion(outputs, labels)\n",
        "        loss.backward()\n",
        "        optimizer.step()\n",
        "\n",
        "        total_loss += loss.item() * inputs.size(0)\n",
        "        _, preds = torch.max(outputs, 1)\n",
        "        correct += (preds == labels).sum().item()\n",
        "        total += labels.size(0)\n",
        "\n",
        "    train_acc = correct / total\n",
        "    avg_train_loss = total_loss / total\n",
        "\n",
        "    # === Evaluation ===\n",
        "    model.eval()\n",
        "    val_loss, val_correct, val_total = 0, 0, 0\n",
        "\n",
        "    with torch.no_grad():\n",
        "        for inputs, labels in test_loader:\n",
        "            inputs, labels = inputs.to(device), labels.to(device)\n",
        "            outputs = model(inputs)\n",
        "            loss = criterion(outputs, labels)\n",
        "            val_loss += loss.item() * inputs.size(0)\n",
        "            _, preds = torch.max(outputs, 1)\n",
        "            val_correct += (preds == labels).sum().item()\n",
        "            val_total += labels.size(0)\n",
        "\n",
        "    val_acc = val_correct / val_total\n",
        "    avg_val_loss = val_loss / val_total\n",
        "\n",
        "    print(f\"[Epoch {epoch+1}/{num_epochs}] \"\n",
        "          f\"Train Loss: {avg_train_loss:.4f} | Acc: {train_acc:.4f} || \"\n",
        "          f\"Val Loss: {avg_val_loss:.4f} | Acc: {val_acc:.4f}\")\n"
      ]
    },
    {
      "cell_type": "code",
      "execution_count": null,
      "metadata": {
        "colab": {
          "base_uri": "https://localhost:8080/",
          "height": 1000
        },
        "id": "NRCyzFaEayS3",
        "outputId": "442b3454-d7d9-481a-cf3c-af0ebc68853b"
      },
      "outputs": [
        {
          "data": {
            "image/png": "[encoded data removed]",
            "text/plain": [
              "<Figure size 640x480 with 1 Axes>"
            ]
          },
          "metadata": {},
          "output_type": "display_data"
        },
        {
          "data": {
            "image/png": "[encoded data removed]",
            "text/plain": [
              "<Figure size 640x480 with 2 Axes>"
            ]
          },
          "metadata": {},
          "output_type": "display_data"
        },
        {
          "name": "stdout",
          "output_type": "stream",
          "text": [
            "\n",
            "📊 Classification Report:\n",
            "              precision    recall  f1-score   support\n",
            "\n",
            "        Good       0.87      1.00      0.93        20\n",
            "      Defect       1.00      0.94      0.97        48\n",
            "\n",
            "    accuracy                           0.96        68\n",
            "   macro avg       0.93      0.97      0.95        68\n",
            "weighted avg       0.96      0.96      0.96        68\n",
            "\n"
          ]
        }
      ],
      "source": [
        "# =====================\n",
        "# 4. 視覺化測試集分布與模型評估\n",
        "# =====================\n",
        "from collections import Counter\n",
        "from sklearn.metrics import confusion_matrix\n",
        "\n",
        "# （1）顯示測試集標籤分布\n",
        "label_counts = Counter(y_test)\n",
        "plt.bar(['Good (0)', 'Defect (1)'], [label_counts[0], label_counts[1]])\n",
        "plt.title('Test Set Label Distribution')\n",
        "plt.show()\n",
        "\n",
        "# （2）模型推論與混淆矩陣（需有 model 與 test_loader）\n",
        "model.eval()\n",
        "all_preds = []\n",
        "all_labels = []\n",
        "\n",
        "with torch.no_grad():\n",
        "    for inputs, labels in test_loader:\n",
        "        inputs = inputs.to(device)\n",
        "        outputs = model(inputs)\n",
        "        _, preds = torch.max(outputs, 1)\n",
        "        all_preds.extend(preds.cpu().numpy())\n",
        "        all_labels.extend(labels.cpu().numpy())\n",
        "\n",
        "cm = confusion_matrix(all_labels, all_preds)\n",
        "sns.heatmap(cm, annot=True, fmt='d', cmap='Blues')\n",
        "plt.xlabel('Predicted')\n",
        "plt.ylabel('True')\n",
        "plt.title('Confusion Matrix')\n",
        "plt.show()\n",
        "\n",
        "print(\"\\n📊 Classification Report:\")\n",
        "print(classification_report(all_labels, all_preds, target_names=['Good', 'Defect']))\n"
      ]
    },
    {
      "cell_type": "code",
      "execution_count": null,
      "metadata": {
        "id": "lakiwfS8ayVg"
      },
      "outputs": [],
      "source": []
    },
    {
      "cell_type": "code",
      "execution_count": null,
      "metadata": {
        "id": "zCdp5DW1aWT3"
      },
      "outputs": [],
      "source": []
    },
    {
      "cell_type": "code",
      "execution_count": null,
      "metadata": {
        "id": "Ua-MSouXaKSs"
      },
      "outputs": [],
      "source": []
    },
    {
      "cell_type": "code",
      "execution_count": null,
      "metadata": {
        "id": "Ucnb6Hnxa8vS"
      },
      "outputs": [],
      "source": []
    }
  ],
  "metadata": {
    "accelerator": "GPU",
    "colab": {
      "gpuType": "T4",
      "provenance": []
    },
    "kernelspec": {
      "display_name": "Python 3",
      "name": "python3"
    },
    "language_info": {
      "name": "python"
    }
  },
  "nbformat": 4,
  "nbformat_minor": 0
}